{
 "cells": [
  {
   "cell_type": "code",
   "execution_count": 1,
   "id": "19aee69f",
   "metadata": {},
   "outputs": [
    {
     "name": "stdout",
     "output_type": "stream",
     "text": [
      "Enter 'E' to encrypt, 'D' to decrypt, or 'Q' to quit: E\n",
      "Enter the plaintext: My name is Rajvi\n",
      "Ciphertext: Pb qdph lv Udmyl\n",
      "Enter 'E' to encrypt, 'D' to decrypt, or 'Q' to quit: D\n",
      "Enter the ciphertext: Pb qdph lv Udmyl\n",
      "Plaintext: My name is Rajvi\n",
      "Enter 'E' to encrypt, 'D' to decrypt, or 'Q' to quit: Q\n"
     ]
    }
   ],
   "source": [
    "def encrypt(plaintext):\n",
    "    ciphertext = \"\"\n",
    "    for char in plaintext:\n",
    "        if char.isalpha():\n",
    "            ascii_offset = ord('a') if char.islower() else ord('A')\n",
    "            encrypted_char = chr((ord(char) - ascii_offset + 3) % 26 + ascii_offset)\n",
    "            ciphertext += encrypted_char\n",
    "        else:\n",
    "            ciphertext += char\n",
    "    return ciphertext\n",
    "\n",
    "\n",
    "def decrypt(ciphertext):\n",
    "    plaintext = \"\"\n",
    "    for char in ciphertext:\n",
    "        if char.isalpha():\n",
    "            ascii_offset = ord('a') if char.islower() else ord('A')\n",
    "            decrypted_char = chr((ord(char) - ascii_offset - 3) % 26 + ascii_offset)\n",
    "            plaintext += decrypted_char\n",
    "        else:\n",
    "            plaintext += char\n",
    "    return plaintext\n",
    "\n",
    "\n",
    "def main():\n",
    "    while True:\n",
    "        choice = input(\"Enter 'E' to encrypt, 'D' to decrypt, or 'Q' to quit: \")\n",
    "        if choice == 'Q':\n",
    "            break\n",
    "        elif choice == 'E':\n",
    "            plaintext = input(\"Enter the plaintext: \")\n",
    "            ciphertext = encrypt(plaintext)\n",
    "            print(\"Ciphertext:\", ciphertext)\n",
    "        elif choice == 'D':\n",
    "            ciphertext = input(\"Enter the ciphertext: \")\n",
    "            plaintext = decrypt(ciphertext)\n",
    "            print(\"Plaintext:\", plaintext)\n",
    "        else:\n",
    "            print(\"Invalid choice. Please try again.\")\n",
    "\n",
    "\n",
    "if __name__ == \"__main__\":\n",
    "    main()"
   ]
  },
  {
   "cell_type": "code",
   "execution_count": null,
   "id": "9db9c5c2",
   "metadata": {},
   "outputs": [],
   "source": []
  }
 ],
 "metadata": {
  "kernelspec": {
   "display_name": "Python 3 (ipykernel)",
   "language": "python",
   "name": "python3"
  },
  "language_info": {
   "codemirror_mode": {
    "name": "ipython",
    "version": 3
   },
   "file_extension": ".py",
   "mimetype": "text/x-python",
   "name": "python",
   "nbconvert_exporter": "python",
   "pygments_lexer": "ipython3",
   "version": "3.9.7"
  }
 },
 "nbformat": 4,
 "nbformat_minor": 5
}
